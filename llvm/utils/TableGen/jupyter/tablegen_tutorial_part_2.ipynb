{
 "cells": [
  {
   "cell_type": "markdown",
   "id": "b1123484",
   "metadata": {},
   "source": [
    "## Intro to TableGen Part 2: mutliclass and TODO: builtin functions ?"
   ]
  },
  {
   "cell_type": "markdown",
   "id": "511f13a8",
   "metadata": {},
   "source": [
    "This turorial builds on part 1 where you learned about classes, defs, types and let."
   ]
  },
  {
   "cell_type": "markdown",
   "id": "b902cac8",
   "metadata": {},
   "source": [
    "## MultiClasses\n",
    "\n",
    "A powerful tool for generating classes is `multiclass`. Using it saves us a lot of repetition.\n",
    "\n",
    "I'm going to use a registers example again and here's all the background you'll need. Arm's general registers have \"X\" and \"W\" names for the 64 and 32 bit views on a register respectively.\n",
    "\n",
    "If I were to encode this without a multiclass I'd have to repeat myself a lot. Delcaring each \"X\" and \"W\" register separately."
   ]
  },
  {
   "cell_type": "code",
   "execution_count": 12,
   "id": "d6c115a6",
   "metadata": {},
   "outputs": [
    {
     "name": "stdout",
     "output_type": "stream",
     "text": [
      "------------- Classes -----------------\n",
      "class Register {\n",
      "  int size = 4;\n",
      "}\n",
      "------------- Defs -----------------\n",
      "def W0 {\t// Register\n",
      "  int size = 4;\n",
      "}\n",
      "def W1 {\t// Register\n",
      "  int size = 4;\n",
      "}\n",
      "def X0 {\t// Register\n",
      "  int size = 8;\n",
      "}\n",
      "def X1 {\t// Register\n",
      "  int size = 8;\n",
      "}\n"
     ]
    }
   ],
   "source": [
    "%reset\n",
    "class Register {\n",
    "    int size=4;\n",
    "}\n",
    "let size=8 in {\n",
    "    def X0: Register {}\n",
    "    def X1: Register {}\n",
    "    // Repeat until X31...\n",
    "}\n",
    "def W0: Register {}\n",
    "def W1: Register {}\n",
    "// Repeat until W31..."
   ]
  },
  {
   "cell_type": "markdown",
   "id": "d004e4da",
   "metadata": {},
   "source": [
    "`multiclass` saves you the repetition. `multiclass` produces mutliple defs when you use it, so we can use it to make an \"X\" and a \"W\" register for us.\n",
    "\n",
    "To make defs from a `multiclass` we use `defm`. Simply `def` but with `m` for \"multiple\". In this case we provide one index `0` then we get an `X0` and a `W0` back."
   ]
  },
  {
   "cell_type": "code",
   "execution_count": 13,
   "id": "61b78457",
   "metadata": {},
   "outputs": [
    {
     "name": "stdout",
     "output_type": "stream",
     "text": [
      "------------- Classes -----------------\n",
      "class Register<int Register:_size = ?, string Register:_name = ?> {\n",
      "  int size = Register:_size;\n",
      "  string name = Register:_name;\n",
      "}\n",
      "------------- Defs -----------------\n",
      "def Register_0_4Byte {\t// Register\n",
      "  int size = 4;\n",
      "  string name = \"W0\";\n",
      "}\n",
      "def Register_0_8Byte {\t// Register\n",
      "  int size = 8;\n",
      "  string name = \"X0\";\n",
      "}\n"
     ]
    }
   ],
   "source": [
    "%reset\n",
    "class Register <int _size, string _name> {\n",
    "    int size = _size;\n",
    "    string name = _name;\n",
    "}\n",
    "\n",
    "multiclass RegisterSizes<string name> {\n",
    "    def _8Byte : Register<8, !strconcat(\"X\", name)>;\n",
    "    def _4Byte : Register<4, !strconcat(\"W\", name)>;\n",
    "}\n",
    "\n",
    "defm Register_0: RegisterSizes<\"0\">;\n",
    "// Repeat until 31..."
   ]
  },
  {
   "cell_type": "markdown",
   "id": "50b43fd9",
   "metadata": {},
   "source": [
    "The name of the new defs is the concatenation of the base class (`Register`) and the def name within the multiclass. So we got `Register_0_8Byte` and `Register_0_4Byte`.\n",
    "\n",
    "Using the multiclass has cut the number of `defs` in half (and we could further trim this down using the functions shown later)."
   ]
  },
  {
   "cell_type": "markdown",
   "id": "9ffa682e",
   "metadata": {},
   "source": [
    "## Mutliclass In Other Languages"
   ]
  },
  {
   "cell_type": "markdown",
   "id": "0a86a0e7",
   "metadata": {},
   "source": [
    "It may be helpful to relate `multiclass` to concepts from other languages. As the name is somewhat misleading.\n",
    "\n",
    "`mutliclass` is not a class in itself. It is more like a function that returns multiple instances of a class. Thinking about it that way, there are plenty of parallels to other languages.\n",
    "\n",
    "For instance in C++ you might use a factory function:\n",
    "```\n",
    "#include <string>\n",
    "#include <utility>\n",
    "\n",
    "struct Register {\n",
    "    Register(int size, std::string name):\n",
    "        m_size(size), m_name(name) {}\n",
    "\n",
    "    int m_size;\n",
    "    std::string m_name;\n",
    "};\n",
    "\n",
    "std::pair<Register, Register> make_reg_defs(std::string index) {\n",
    "    return {\n",
    "        Register(8, \"X\" + index),\n",
    "        Register(4, \"W\" + index),\n",
    "    };\n",
    "}\n",
    "```\n",
    "\n",
    "Very similar in Python:\n",
    "```\n",
    "class Register(object):\n",
    "    def __init__(self, size, name):\n",
    "        self.size = size\n",
    "        self.name = name\n",
    "        \n",
    "def make_reg_defs(index):\n",
    "    return [Register(8, \"X\" + index), Register(4, \"W\" + index)]\n",
    "    \n",
    "print(make_reg_defs(\"0\")[0].name)\n",
    "# prints \"X0\"\n",
    "```\n",
    "\n",
    "The overall theme is that you make one call and get multiple things back.\n",
    "\n",
    "* `def` - define one thing\n",
    "* `defm` - define many things"
   ]
  },
  {
   "cell_type": "markdown",
   "id": "6bcb2a54",
   "metadata": {},
   "source": [
    "## defset"
   ]
  },
  {
   "cell_type": "markdown",
   "id": "06d04aa6",
   "metadata": {},
   "source": [
    "`defset` takes the defs within `{...}` and defines them as usual but also adds them to a global variable.\n",
    "\n",
    "`defset <type of the set> <name of the set> = { <do some def/defm here> }`"
   ]
  },
  {
   "cell_type": "code",
   "execution_count": 57,
   "id": "400f158f",
   "metadata": {},
   "outputs": [
    {
     "name": "stdout",
     "output_type": "stream",
     "text": [
      "------------- Classes -----------------\n",
      "class Counter<int Counter:c = ?> {\n",
      "  int count = Counter:c;\n",
      "}\n",
      "------------- Defs -----------------\n",
      "def c0 {\t// Counter\n",
      "  int count = 0;\n",
      "}\n",
      "def c1 {\t// Counter\n",
      "  int count = 1;\n",
      "}\n",
      "def c2 {\t// Counter\n",
      "  int count = 2;\n",
      "}\n"
     ]
    }
   ],
   "source": [
    "%reset\n",
    "\n",
    "class Counter <int c> {\n",
    "    int count = c;\n",
    "}\n",
    "\n",
    "defset list<Counter> Counters = {\n",
    "    def c0 : Counter<0>;\n",
    "    def c1 : Counter<1>;\n",
    "    def c2 : Counter<2>;\n",
    "}"
   ]
  },
  {
   "cell_type": "markdown",
   "id": "16bc12ad",
   "metadata": {},
   "source": [
    "As this new variable `Counters` is not itself a class or record, you won't see it in the default `llvm-tblgen` output. Instead this feature helps you create other records by processing the set of defs.\n",
    "\n",
    "Let's use it to make one final def that is the total of all the counters. What we want to do is iterate over all the defs in `Counters` and add up their counts as we go."
   ]
  },
  {
   "cell_type": "code",
   "execution_count": 58,
   "id": "43f2bf68",
   "metadata": {},
   "outputs": [
    {
     "name": "stdout",
     "output_type": "stream",
     "text": [
      "------------- Classes -----------------\n",
      "class Counter<int Counter:c = ?> {\n",
      "  int count = Counter:c;\n",
      "}\n",
      "------------- Defs -----------------\n",
      "def c0 {\t// Counter\n",
      "  int count = 0;\n",
      "}\n",
      "def c1 {\t// Counter\n",
      "  int count = 1;\n",
      "}\n",
      "def c2 {\t// Counter\n",
      "  int count = 2;\n",
      "}\n",
      "def final_c {\n",
      "  int total = 3;\n",
      "}\n"
     ]
    }
   ],
   "source": [
    "def final_c {\n",
    "    int total = !foldl(0, Counters, accumulator, counter, !add(accumulator, counter.count));\n",
    "}"
   ]
  },
  {
   "cell_type": "markdown",
   "id": "b9603bfe",
   "metadata": {},
   "source": [
    "I've used a few functions we haven't talked about. `foldl` will be familiar to people with functional programming experience and `!add` simply adds two things together. We will talk more about these and other functions later.\n",
    "\n",
    "For now take it for granted that total is calculated by starting with `0` and adding the `count` of each `Counter` from `Counters` to it.\n",
    "\n",
    "The point is that without `defset` to group them under one name, we would have had to do it in a much less flexible manner."
   ]
  },
  {
   "cell_type": "code",
   "execution_count": 59,
   "id": "cb3626bc",
   "metadata": {},
   "outputs": [
    {
     "name": "stdout",
     "output_type": "stream",
     "text": [
      "------------- Classes -----------------\n",
      "class Counter<int Counter:c = ?> {\n",
      "  int count = Counter:c;\n",
      "}\n",
      "------------- Defs -----------------\n",
      "def c0 {\t// Counter\n",
      "  int count = 0;\n",
      "}\n",
      "def c1 {\t// Counter\n",
      "  int count = 1;\n",
      "}\n",
      "def c2 {\t// Counter\n",
      "  int count = 2;\n",
      "}\n",
      "def final_c {\n",
      "  int total = 3;\n",
      "}\n",
      "def final_c_no_defset {\n",
      "  int total = 3;\n",
      "}\n"
     ]
    }
   ],
   "source": [
    "def final_c_no_defset {\n",
    "    int total = !add(c0.count, c1.count, c2.count);\n",
    "}"
   ]
  },
  {
   "cell_type": "code",
   "execution_count": null,
   "id": "14e4336b",
   "metadata": {},
   "outputs": [],
   "source": []
  }
 ],
 "metadata": {
  "kernelspec": {
   "display_name": "LLVM TableGen",
   "language": "tablegen",
   "name": "tablegen"
  },
  "language_info": {
   "file_extension": ".td",
   "mimetype": "text/x-tablegen",
   "name": "tablegen",
   "pygments_lexer": "text"
  }
 },
 "nbformat": 4,
 "nbformat_minor": 5
}
