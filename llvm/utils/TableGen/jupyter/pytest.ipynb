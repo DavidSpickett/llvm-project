{
 "cells": [
  {
   "cell_type": "code",
   "execution_count": 1,
   "id": "23a7919e",
   "metadata": {},
   "outputs": [
    {
     "name": "stdout",
     "output_type": "stream",
     "text": [
      "------------- Classes -----------------\n",
      "class Bar {\n",
      "  int a = 2;\n",
      "  int b = ?;\n",
      "}\n",
      "class Foo {\n",
      "  int a = 1;\n",
      "  int b = ?;\n",
      "}\n",
      "------------- Defs -----------------\n",
      "def bar {\t// Bar\n",
      "  int a = 2;\n",
      "  int b = ?;\n",
      "}\n",
      "def foo {\t// Foo\n",
      "  int a = 1;\n",
      "  int b = ?;\n",
      "}\n",
      "def foo_bar {\t// Foo Bar\n",
      "  int a = 2;\n",
      "  int b = ?;\n",
      "}\n"
     ]
    }
   ],
   "source": [
    "%reset\n",
    "class Foo {\n",
    "    int a = 1;\n",
    "    int b;\n",
    "}\n",
    "class Bar {\n",
    "    int a = 2;\n",
    "    int b;\n",
    "}\n",
    "def foo : Foo {}\n",
    "def bar : Bar {}\n",
    "def foo_bar : Foo, Bar {}"
   ]
  },
  {
   "cell_type": "code",
   "execution_count": 2,
   "id": "073f0538",
   "metadata": {},
   "outputs": [
    {
     "name": "stdout",
     "output_type": "stream",
     "text": [
      "{\n",
      "    \"!instanceof\": {\n",
      "        \"Bar\": [\n",
      "            \"bar\",\n",
      "            \"foo_bar\"\n",
      "        ],\n",
      "        \"Foo\": [\n",
      "            \"foo\",\n",
      "            \"foo_bar\"\n",
      "        ]\n",
      "    },\n",
      "    \"!tablegen_json_version\": 1,\n",
      "    \"bar\": {\n",
      "        \"!anonymous\": false,\n",
      "        \"!fields\": [],\n",
      "        \"!name\": \"bar\",\n",
      "        \"!superclasses\": [\n",
      "            \"Bar\"\n",
      "        ],\n",
      "        \"a\": 2,\n",
      "        \"b\": null\n",
      "    },\n",
      "    \"foo\": {\n",
      "        \"!anonymous\": false,\n",
      "        \"!fields\": [],\n",
      "        \"!name\": \"foo\",\n",
      "        \"!superclasses\": [\n",
      "            \"Foo\"\n",
      "        ],\n",
      "        \"a\": 1,\n",
      "        \"b\": null\n",
      "    },\n",
      "    \"foo_bar\": {\n",
      "        \"!anonymous\": false,\n",
      "        \"!fields\": [],\n",
      "        \"!name\": \"foo_bar\",\n",
      "        \"!superclasses\": [\n",
      "            \"Foo\",\n",
      "            \"Bar\"\n",
      "        ],\n",
      "        \"a\": 2,\n",
      "        \"b\": null\n",
      "    }\n",
      "}"
     ]
    }
   ],
   "source": [
    "%json"
   ]
  },
  {
   "cell_type": "code",
   "execution_count": 5,
   "id": "baee1f40",
   "metadata": {},
   "outputs": [
    {
     "name": "stdout",
     "output_type": "stream",
     "text": [
      "{\n",
      "    \"foo\": {\n",
      "        \"!anonymous\": false,\n",
      "        \"!fields\": [],\n",
      "        \"!name\": \"foo\",\n",
      "        \"!superclasses\": [\n",
      "            \"Foo\"\n",
      "        ],\n",
      "        \"a\": 1,\n",
      "        \"b\": null\n",
      "    },\n",
      "    \"foo_bar\": {\n",
      "        \"!anonymous\": false,\n",
      "        \"!fields\": [],\n",
      "        \"!name\": \"foo_bar\",\n",
      "        \"!superclasses\": [\n",
      "            \"Foo\",\n",
      "            \"Bar\"\n",
      "        ],\n",
      "        \"a\": 2,\n",
      "        \"b\": null\n",
      "    }\n",
      "}"
     ]
    }
   ],
   "source": [
    "%py\n",
    "dict(filter(lambda k_v : not k_v[0].startswith(\"!\") and \"Foo\" in k_v[1][\"!superclasses\"], j.items()))"
   ]
  },
  {
   "cell_type": "code",
   "execution_count": null,
   "id": "543e0c7c",
   "metadata": {},
   "outputs": [],
   "source": []
  }
 ],
 "metadata": {
  "kernelspec": {
   "display_name": "LLVM TableGen",
   "language": "tablegen",
   "name": "tablegen"
  },
  "language_info": {
   "file_extension": ".td",
   "mimetype": "text/x-tablegen",
   "name": "tablegen",
   "pygments_lexer": "text"
  }
 },
 "nbformat": 4,
 "nbformat_minor": 5
}
